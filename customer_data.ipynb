{
 "cells": [
  {
   "cell_type": "code",
   "execution_count": 13,
   "metadata": {
    "ExecuteTime": {
     "end_time": "2019-10-12T03:06:55.685588Z",
     "start_time": "2019-10-12T03:06:55.678914Z"
    }
   },
   "outputs": [],
   "source": [
    "import numpy as np\n",
    "import pandas as pd\n",
    "from sklearn.decomposition import PCA\n",
    "from sklearn.tree import DecisionTreeClassifier\n",
    "from sklearn.preprocessing import StandardScaler\n",
    "from sklearn.model_selection import train_test_split\n",
    "from sklearn.metrics import accuracy_score\n",
    "\n",
    "df=pd.read_csv('customers_data.csv')"
   ]
  },
  {
   "cell_type": "code",
   "execution_count": 14,
   "metadata": {
    "ExecuteTime": {
     "end_time": "2019-10-12T03:06:56.298657Z",
     "start_time": "2019-10-12T03:06:56.295096Z"
    }
   },
   "outputs": [],
   "source": [
    "# Drop unwanted columns\n",
    "df  = df.drop(['Channel', 'Region'], axis=1)"
   ]
  },
  {
   "cell_type": "code",
   "execution_count": 15,
   "metadata": {
    "ExecuteTime": {
     "end_time": "2019-10-12T03:06:57.318765Z",
     "start_time": "2019-10-12T03:06:57.313998Z"
    }
   },
   "outputs": [],
   "source": [
    "# Scaling\n",
    "scaler = StandardScaler(copy = True, with_mean=True, with_std=True)\n",
    "scaler.fit(df)\n",
    "df = scaler.transform(df)"
   ]
  },
  {
   "cell_type": "code",
   "execution_count": 16,
   "metadata": {
    "ExecuteTime": {
     "end_time": "2019-10-12T03:06:57.900240Z",
     "start_time": "2019-10-12T03:06:57.895503Z"
    }
   },
   "outputs": [
    {
     "name": "stdout",
     "output_type": "stream",
     "text": [
      "Explained Variance for Principal Component 0: 0.44082892881128055\n",
      "Explained Variance for Principal Component 1: 0.2837639952661693\n",
      "Explained Variance for Principal Component 2: 0.12334412896786455\n",
      "Explained Variance for Principal Component 3: 0.09395503752971497\n",
      "Explained Variance for Principal Component 4: 0.04761272400688682\n",
      "Explained Variance for Principal Component 5: 0.010495185418083766\n"
     ]
    }
   ],
   "source": [
    "# Model fit\n",
    "pca = PCA()\n",
    "\n",
    "pca_fit = pca.fit_transform(df)\n",
    "\n",
    "for ind, var in enumerate(pca.explained_variance_ratio_):\n",
    "    print(f'Explained Variance for Principal Component {ind}: {var}')    "
   ]
  },
  {
   "cell_type": "code",
   "execution_count": 17,
   "metadata": {
    "ExecuteTime": {
     "end_time": "2019-10-12T03:06:58.628284Z",
     "start_time": "2019-10-12T03:06:58.622984Z"
    }
   },
   "outputs": [
    {
     "name": "stdout",
     "output_type": "stream",
     "text": [
      "Explained Variance for Principal Component 0: 0.43686760464614927\n",
      "Explained Variance for Principal Component 1: 0.33609081214635006\n",
      "Explained Variance for Principal Component 2: 0.1639343543258494\n",
      "Explained Variance for Principal Component 3: 0.0631072288816513\n",
      "\n",
      "[0.4368676  0.33609081 0.16393435 0.06310723]\n"
     ]
    }
   ],
   "source": [
    "# only take the first three columns as principal components\n",
    "df_r = df[:, 0:4]\n",
    "\n",
    "# fit new pca model to reduced df\n",
    "\n",
    "pca.fit_transform(df_r)\n",
    "\n",
    "for ind, var in enumerate(pca.explained_variance_ratio_):\n",
    "    print(f'Explained Variance for Principal Component {ind}: {var}') \n",
    "print()\n",
    "print(pca.explained_variance_ratio_)\n",
    "\n"
   ]
  },
  {
   "cell_type": "code",
   "execution_count": null,
   "metadata": {},
   "outputs": [],
   "source": []
  }
 ],
 "metadata": {
  "kernelspec": {
   "display_name": "Python 3",
   "language": "python",
   "name": "python3"
  },
  "language_info": {
   "codemirror_mode": {
    "name": "ipython",
    "version": 3
   },
   "file_extension": ".py",
   "mimetype": "text/x-python",
   "name": "python",
   "nbconvert_exporter": "python",
   "pygments_lexer": "ipython3",
   "version": "3.7.3"
  },
  "toc": {
   "base_numbering": 1,
   "nav_menu": {},
   "number_sections": true,
   "sideBar": true,
   "skip_h1_title": false,
   "title_cell": "Table of Contents",
   "title_sidebar": "Contents",
   "toc_cell": false,
   "toc_position": {},
   "toc_section_display": true,
   "toc_window_display": false
  },
  "varInspector": {
   "cols": {
    "lenName": 16,
    "lenType": 16,
    "lenVar": 40
   },
   "kernels_config": {
    "python": {
     "delete_cmd_postfix": "",
     "delete_cmd_prefix": "del ",
     "library": "var_list.py",
     "varRefreshCmd": "print(var_dic_list())"
    },
    "r": {
     "delete_cmd_postfix": ") ",
     "delete_cmd_prefix": "rm(",
     "library": "var_list.r",
     "varRefreshCmd": "cat(var_dic_list()) "
    }
   },
   "types_to_exclude": [
    "module",
    "function",
    "builtin_function_or_method",
    "instance",
    "_Feature"
   ],
   "window_display": false
  }
 },
 "nbformat": 4,
 "nbformat_minor": 2
}
